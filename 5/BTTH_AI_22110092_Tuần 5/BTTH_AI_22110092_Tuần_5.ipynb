{
  "nbformat": 4,
  "nbformat_minor": 0,
  "metadata": {
    "colab": {
      "provenance": []
    },
    "kernelspec": {
      "name": "python3",
      "display_name": "Python 3"
    },
    "language_info": {
      "name": "python"
    }
  },
  "cells": [
    {
      "cell_type": "code",
      "execution_count": null,
      "metadata": {
        "colab": {
          "base_uri": "https://localhost:8080/"
        },
        "id": "6CX4hH2Qd8oX",
        "outputId": "14637132-8d98-4dab-f757-5bf80f4999dc"
      },
      "outputs": [
        {
          "output_type": "stream",
          "name": "stdout",
          "text": [
            "Requirement already satisfied: treelib in /usr/local/lib/python3.10/dist-packages (1.7.0)\n",
            "Requirement already satisfied: six in /usr/local/lib/python3.10/dist-packages (from treelib) (1.16.0)\n"
          ]
        }
      ],
      "source": [
        "!pip install treelib\n",
        "from treelib import Node, Tree\n",
        "import sys"
      ]
    },
    {
      "cell_type": "code",
      "source": [
        "# Structure to represent tree nodes in the A* expansion\n",
        "class TreeNode(object):\n",
        "    def __init__(self, c_no, c_id, f_value, h_value, parent_id):\n",
        "        self.c_no = c_no\n",
        "        self.c_id = c_id\n",
        "        self.f_value = f_value\n",
        "        self.h_value = h_value\n",
        "        self.parent_id = parent_id"
      ],
      "metadata": {
        "id": "FVEV5hYOea_6"
      },
      "execution_count": null,
      "outputs": []
    },
    {
      "cell_type": "code",
      "source": [
        "# Structure to prepresent fringe nodes in the A* fringe list\n",
        "class FringeNode(object):\n",
        "    def __init__(self, c_no, f_value):\n",
        "        self.c_no = c_no\n",
        "        self.f_value = f_value"
      ],
      "metadata": {
        "id": "0s6KSatrL9CG"
      },
      "execution_count": null,
      "outputs": []
    },
    {
      "cell_type": "code",
      "source": [
        "class Graph():\n",
        "    def __init__(self, vertices):\n",
        "        self.V = vertices\n",
        "        self.graph = [[0 for column in range(vertices)]\n",
        "                      for row in range(vertices)]\n",
        "\n",
        "    # A utility function to print the constructed MST stored in parent[]\n",
        "    def printMST(self, parent, g, d_temp, t):\n",
        "        # print(\"Edge \\tWeight\")\n",
        "        sum_weight = 0\n",
        "        min1 = 10000\n",
        "        min2 = 10000\n",
        "        r_temp = {} # Reverse dictionary\n",
        "        for k in d_temp:\n",
        "            r_temp[d_temp[k]] = k\n",
        "        for i in range(1, self.V):\n",
        "            # print(parent[i], \"-\", i, \"\\t\", self.graph[i][parent[i]])\n",
        "            sum_weight = sum_weight + self.graph[i][parent[i]]\n",
        "            if (graph[0][r_temp[i]] < min1):\n",
        "                min1 = graph[0][r_temp[i]]\n",
        "            if (graph[0][r_temp[parent[i]]] < min1):\n",
        "                min1 = graph[0][r_temp[parent[i]]]\n",
        "            if (graph[t][r_temp[i]] < min2):\n",
        "                min2 = graph[t][r_temp[i]]\n",
        "            if (graph[t][r_temp[parent[i]]] < min2):\n",
        "                min2 = graph[t][r_temp[parent[i]]]\n",
        "        return (sum_weight + min1 + min2) % 10000\n",
        "\n",
        "    # A utility function to find the vertex\n",
        "    # with minimum distance value, from the set of vertices\n",
        "    # not yet included in shortest path tree\n",
        "    def minKey(self, key, mstSet):\n",
        "        # Initilaize min value\n",
        "        min = sys.maxsize\n",
        "        min_index = -1\n",
        "        for v in range(self.V):\n",
        "            if key[v] < min and mstSet[v] == False:\n",
        "                min = key[v]\n",
        "                min_index = v\n",
        "        return min_index\n",
        "\n",
        "    # Function to construct and print MST for a graph\n",
        "    # represented using adjacency matrix representation\n",
        "    def primMST(self, g, d_temp, t):\n",
        "        # Key values used to pick minimum weight edge in cut\n",
        "        key = [sys.maxsize] * self.V\n",
        "        parent = [None] * self.V # Array to store constructed MST\n",
        "        # Make key 0 so that this vertex is picked as first vertex\n",
        "        key[0] = 0\n",
        "        mstSet = [False] * self.V\n",
        "        sum_weight = 10000\n",
        "        parent[0] = -1 # First node is always the root of the graph\n",
        "\n",
        "        for c in range(self.V):\n",
        "            # Pick the minimum distance vertex from the set of vertices not yet processed.\n",
        "            # u is always equal to src in first iteration\n",
        "            u = self.minKey(key, mstSet)\n",
        "\n",
        "            # Put the minimum distance vertex in the shortest path tree\n",
        "            mstSet[u] = True\n",
        "\n",
        "            # Update dict value and parent index of the adjacent vertices of the picked vertex only if the current distance is greater than new distance and\n",
        "            # the vertex in not in the shotest path tree\n",
        "            for v in range(self.V):\n",
        "                # graph[u][v] is non zero only for adjacent vertices of m\n",
        "                # mstSet[v] is false for vertices not yet included in MST\n",
        "                # Update the key only if graph[u][v] is smaller than key[v]\n",
        "                if self.graph[u][v] > 0 and mstSet[v] == False and key[v] > self.graph[u][v]:\n",
        "                    key[v] = self.graph[u][v]\n",
        "                    parent[v] = u\n",
        "\n",
        "        return self.printMST(parent, g, d_temp, t)"
      ],
      "metadata": {
        "id": "KLCslh_6MFD7"
      },
      "execution_count": null,
      "outputs": []
    },
    {
      "cell_type": "code",
      "source": [
        "# idea here is to form a graph of all unvisited nodes and make MST form that.\n",
        "# Determine weight of that mst and connect it with the visited node and 0th node\n",
        "# prim's Algoithms used for MST (Greedy approach)\n",
        "\n",
        "def heuristic(tree, p_id, t, V, graph):\n",
        "    visited = set() # Set to store visited nodes\n",
        "    visited.add(0)\n",
        "    visited.add(t)\n",
        "    if (p_id != -1):\n",
        "        tnode = tree.get_node(str(p_id))\n",
        "        # Find all visited nodes and add them to the set\n",
        "        while(tnode.data.c_id != 1):\n",
        "            visited.add(tnode.data.c_no)\n",
        "            tnode = tree.get_node(str(tnode.data.parent_id))\n",
        "    l = len(visited)\n",
        "    num = V - l # No of unvisited nodes\n",
        "    if (num != 0):\n",
        "        g = Graph(num)\n",
        "        d_temp = {}\n",
        "        key = 0\n",
        "        # d_temp dictionary stores mappings of original city no as (key) and new sequential no as (value) for MST to work\n",
        "        for i in range(V):\n",
        "            if (i not in visited):\n",
        "                d_temp[i] = key\n",
        "                key = key + 1\n",
        "        i = 0\n",
        "        for i in range(V):\n",
        "            for j in range(V):\n",
        "                if ((i not in visited) and (j not in visited)):\n",
        "                    g.graph[d_temp[i]][d_temp[j]] = graph[i][j]\n",
        "\n",
        "        # print(g.graph)\n",
        "        mst_weight = g.primMST(g.graph, d_temp, t)\n",
        "        return mst_weight\n",
        "    else:\n",
        "        return graph[t][0]"
      ],
      "metadata": {
        "id": "cFHUSbQlPgrz"
      },
      "execution_count": null,
      "outputs": []
    },
    {
      "cell_type": "code",
      "source": [
        "def checkPath(tree, toExpand, V):\n",
        "    tnode = tree.get_node(str(toExpand.c_id)) # Get the node to expand from the tree\n",
        "    list1 = list() # List to store the path\n",
        "    # For 1st node\n",
        "    if (tnode.data.c_id == 1):\n",
        "        # print(\"In If\")\n",
        "        return 0\n",
        "    else:\n",
        "        # print(\"In Else\")\n",
        "        depth = tree.depth(tnode) # Check depth of the tree\n",
        "        s = set() # Set to store nodes in the path\n",
        "        # Go up in the tree using the parent pointer and add all nodes in the way to the set and list\n",
        "        while (tnode.data.c_id != 1):\n",
        "            s.add(tnode.data.c_no)\n",
        "            list1.append(tnode.data.c_no)\n",
        "            tnode = tree.get_node(str(tnode.data.parent_id))\n",
        "        list1.append(0)\n",
        "        if (depth == V and len(s) == V and list1[0] == 0):\n",
        "            print(\"Path complete\")\n",
        "            list1.reverse()\n",
        "            print(list1)\n",
        "            return 1\n",
        "        else:\n",
        "            return 0\n"
      ],
      "metadata": {
        "id": "yhORUbvSRMxv"
      },
      "execution_count": null,
      "outputs": []
    },
    {
      "cell_type": "code",
      "source": [
        "def startTSP(graph, tree, V):\n",
        "    goalState = 0\n",
        "    times = 0\n",
        "    toExpand = TreeNode(0, 0, 0, 0, 0) # Node to expand\n",
        "    key = 1 # Unique Identifier for a node in the tree\n",
        "    heu = heuristic(tree, -1, 0, V, graph) # Heuristic for node 0 in the tree\n",
        "    tree.create_node(\"1\", \"1\", data=TreeNode(0,1,heu,heu,-1)) # Create 1st node in the tree i.e. 0th city\n",
        "    fringe_list = {} # Frienge list (Dictionary) (FL)\n",
        "    fringe_list[key] = FringeNode(0, heu)\n",
        "    key = key + 1\n",
        "    cost = 0\n",
        "    while (goalState == 0):\n",
        "        minf = sys.maxsize\n",
        "        # Pick node having min f_value from the fringe list\n",
        "        for i in fringe_list.keys():\n",
        "            if (fringe_list[i].f_value < minf):\n",
        "                toExpand.f_value = fringe_list[i].f_value\n",
        "                toExpand.c_no = fringe_list[i].c_no\n",
        "                toExpand.c_id = i\n",
        "                minf = fringe_list[i].f_value\n",
        "\n",
        "        h = tree.get_node(str(toExpand.c_id)).data.h_value # Heuristic value of the selected node\n",
        "        val = toExpand.f_value - h # g value of the selected node\n",
        "        path = checkPath(tree, toExpand, V) # Check path of selected node if it is complete or not\n",
        "        # If node to expand is 0 and path is complete, we are done\n",
        "        # We check node at the time of expansion and not at the time of generation\n",
        "        if (toExpand.c_no == 0 and path == 1):\n",
        "            goalState = 1\n",
        "            cost = toExpand.f_value # Total actual cost incurred\n",
        "        else:\n",
        "            del fringe_list[toExpand.c_id] # Remove node from FL\n",
        "            j = 0\n",
        "            # Evaluate f_values and h_values of adjacent nodes of the node to expand\n",
        "            while (j < V):\n",
        "                if (j != toExpand.c_no):\n",
        "                    h = heuristic(tree, toExpand.c_id, j, V, graph) # Heuristic calc\n",
        "                    f_val = val + graph[j][toExpand.c_no] + h # g(parent) + g(parent->child) + h(child)\n",
        "                    fringe_list[key] = FringeNode(j, f_val)\n",
        "                    tree.create_node(str(toExpand.c_no), str(key), parent=str(toExpand.c_id),data=TreeNode(j, key, f_val, h, toExpand.c_id))\n",
        "                    key = key + 1\n",
        "                j = j + 1\n",
        "    return cost\n"
      ],
      "metadata": {
        "id": "kTJlWlCDSAsT"
      },
      "execution_count": null,
      "outputs": []
    },
    {
      "cell_type": "code",
      "source": [
        "def run_test_cases():\n",
        "    test_cases = [\n",
        "        # Test case 1: Smallest graph\n",
        "        (2, [[0, 100], [100, 0]]),\n",
        "        # Test case 2: Simple 3-node graph\n",
        "        (3, [[0, 300, 200], [300, 0, 500], [200, 500, 0]]),\n",
        "        # Test case 3: Original 4-node graph\n",
        "        (4, [[0, 5, 2, 3], [5, 0, 6, 3], [2, 6, 0, 4], [3, 3, 4, 0]]),\n",
        "        # Test case 4: Fully connected graph with random distances\n",
        "        (4, [[0, 10, 15, 20], [10, 0, 35, 25], [15, 35, 0, 30], [20, 25, 30, 0]]),\n",
        "        # Test case 5: Symmetric graph with equal distances\n",
        "        (4, [[0, 5, 5, 5], [5, 0, 5, 5], [5, 5, 0, 5], [5, 5, 5, 0]]),\n",
        "        # Test case 6: Asymmetric graph\n",
        "        (3, [[0, 10, 20], [5, 0, 25], [15, 10, 0]]),\n",
        "    ]\n",
        "\n",
        "    for i, (V, graph) in enumerate(test_cases):\n",
        "        print(f\"Test Case {i + 1}: V = {V}\")\n",
        "        for row in graph:\n",
        "            print(row)\n",
        "        print(\"-\" * 30)\n",
        "        tree = Tree()\n",
        "        ans = startTSP(graph, tree, V)\n",
        "        print(\"Ans is \" + str(ans))\n",
        "        print(\"-\" * 30)\n"
      ],
      "metadata": {
        "id": "KtD9IecRUrRj"
      },
      "execution_count": 95,
      "outputs": []
    },
    {
      "cell_type": "code",
      "source": [
        "if __name__ == '__main__':\n",
        "    run_test_cases()"
      ],
      "metadata": {
        "colab": {
          "base_uri": "https://localhost:8080/"
        },
        "id": "IDBR7RZika6V",
        "outputId": "475ff13e-67cd-47ad-d006-a54e9956603b"
      },
      "execution_count": 92,
      "outputs": [
        {
          "output_type": "stream",
          "name": "stdout",
          "text": [
            "Test Case 1: V = 2\n",
            "[0, 100]\n",
            "[100, 0]\n",
            "------------------------------\n",
            "Path complete\n",
            "[0, 1, 0]\n",
            "Ans is 200\n",
            "Test Case 2: V = 3\n",
            "[0, 300, 200]\n",
            "[300, 0, 500]\n",
            "[200, 500, 0]\n",
            "------------------------------\n",
            "Path complete\n",
            "[0, 2, 1, 0]\n",
            "Ans is 1000\n",
            "Test Case 3: V = 4\n",
            "[0, 5, 2, 3]\n",
            "[5, 0, 6, 3]\n",
            "[2, 6, 0, 4]\n",
            "[3, 3, 4, 0]\n",
            "------------------------------\n",
            "Path complete\n",
            "[0, 2, 3, 1, 0]\n",
            "Ans is 14\n",
            "Test Case 4: V = 4\n",
            "[0, 10, 15, 20]\n",
            "[10, 0, 35, 25]\n",
            "[15, 35, 0, 30]\n",
            "[20, 25, 30, 0]\n",
            "------------------------------\n",
            "Path complete\n",
            "[0, 1, 3, 2, 0]\n",
            "Ans is 80\n",
            "Test Case 5: V = 4\n",
            "[0, 5, 5, 5]\n",
            "[5, 0, 5, 5]\n",
            "[5, 5, 0, 5]\n",
            "[5, 5, 5, 0]\n",
            "------------------------------\n",
            "Path complete\n",
            "[0, 1, 2, 3, 0]\n",
            "Ans is 20\n",
            "Test Case 6: V = 3\n",
            "[0, 10, 20]\n",
            "[5, 0, 25]\n",
            "[15, 10, 0]\n",
            "------------------------------\n",
            "Path complete\n",
            "[0, 1, 2, 0]\n",
            "Ans is 35\n"
          ]
        }
      ]
    }
  ]
}